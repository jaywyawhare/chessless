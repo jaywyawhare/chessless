{
 "cells": [
  {
   "cell_type": "code",
   "execution_count": 1,
   "metadata": {},
   "outputs": [
    {
     "name": "stderr",
     "output_type": "stream",
     "text": [
      "2024-11-18 16:50:00.483609: W tensorflow/stream_executor/platform/default/dso_loader.cc:64] Could not load dynamic library 'libcudart.so.11.0'; dlerror: libcudart.so.11.0: cannot open shared object file: No such file or directory\n",
      "2024-11-18 16:50:00.483670: I tensorflow/stream_executor/cuda/cudart_stub.cc:29] Ignore above cudart dlerror if you do not have a GPU set up on your machine.\n"
     ]
    }
   ],
   "source": [
    "import pandas as pd\n",
    "import numpy as np\n",
    "import tensorflow as tf\n",
    "from sklearn.model_selection import train_test_split\n",
    "from keras import layers\n",
    "import keras\n",
    "from keras import models \n",
    "from keras.callbacks import EarlyStopping, ModelCheckpoint\n",
    "import matplotlib.pyplot as plt\n",
    "import seaborn as sns\n",
    "\n",
    "\n",
    "df = pd.read_csv(\"data/processed_games_with_eval.csv\")\n",
    "df = df.drop_duplicates(subset=[\"current_fen\"])"
   ]
  },
  {
   "cell_type": "code",
   "execution_count": 2,
   "metadata": {},
   "outputs": [],
   "source": [
    "def bitboard_to_np_array(bitboard: str) -> np.ndarray:\n",
    "    return np.array([int(bit) for bit in bitboard], dtype=np.uint8)\n",
    "\n",
    "\n",
    "df[\"p\"] = df[\"p\"].apply(bitboard_to_np_array)\n",
    "df[\"r\"] = df[\"r\"].apply(bitboard_to_np_array)\n",
    "df[\"n\"] = df[\"n\"].apply(bitboard_to_np_array)\n",
    "df[\"b\"] = df[\"b\"].apply(bitboard_to_np_array)\n",
    "df[\"q\"] = df[\"q\"].apply(bitboard_to_np_array)\n",
    "df[\"k\"] = df[\"k\"].apply(bitboard_to_np_array)"
   ]
  },
  {
   "cell_type": "code",
   "execution_count": 3,
   "metadata": {},
   "outputs": [],
   "source": [
    "X = np.array(\n",
    "    [\n",
    "        np.stack([row[\"p\"], row[\"r\"], row[\"n\"], row[\"b\"], row[\"q\"], row[\"k\"]])\n",
    "        for _, row in df.iterrows()\n",
    "    ]\n",
    ")\n",
    "\n",
    "y = df[\"eval\"].values"
   ]
  },
  {
   "cell_type": "code",
   "execution_count": 4,
   "metadata": {},
   "outputs": [],
   "source": [
    "X_train, X_test, y_train, y_test = train_test_split(\n",
    "    X, y, test_size=0.2, random_state=42\n",
    ")"
   ]
  },
  {
   "cell_type": "code",
   "execution_count": 5,
   "metadata": {},
   "outputs": [
    {
     "name": "stderr",
     "output_type": "stream",
     "text": [
      "2024-11-18 16:50:10.170067: E tensorflow/stream_executor/cuda/cuda_driver.cc:271] failed call to cuInit: CUDA_ERROR_NO_DEVICE: no CUDA-capable device is detected\n",
      "2024-11-18 16:50:10.170095: I tensorflow/stream_executor/cuda/cuda_diagnostics.cc:156] kernel driver does not appear to be running on this host (n00b): /proc/driver/nvidia/version does not exist\n",
      "2024-11-18 16:50:10.171058: I tensorflow/core/platform/cpu_feature_guard.cc:151] This TensorFlow binary is optimized with oneAPI Deep Neural Network Library (oneDNN) to use the following CPU instructions in performance-critical operations:  AVX2 AVX512F FMA\n",
      "To enable them in other operations, rebuild TensorFlow with the appropriate compiler flags.\n"
     ]
    }
   ],
   "source": [
    "X_train_tensor = tf.convert_to_tensor(X_train, dtype=tf.uint8)\n",
    "X_test_tensor = tf.convert_to_tensor(X_test, dtype=tf.uint8)\n",
    "y_train_tensor = tf.convert_to_tensor(y_train, dtype=tf.float32)\n",
    "y_test_tensor = tf.convert_to_tensor(y_test, dtype=tf.float32)"
   ]
  },
  {
   "cell_type": "code",
   "execution_count": 6,
   "metadata": {},
   "outputs": [
    {
     "name": "stdout",
     "output_type": "stream",
     "text": [
      "Epoch 1/100\n",
      "601/601 [==============================] - 3s 5ms/step - loss: 1802308.0000 - val_loss: 1894239.2500\n",
      "Epoch 2/100\n",
      "601/601 [==============================] - 5s 8ms/step - loss: 1737359.0000 - val_loss: 1823963.7500\n",
      "Epoch 3/100\n",
      "601/601 [==============================] - 6s 10ms/step - loss: 1655140.6250 - val_loss: 1766256.6250\n",
      "Epoch 4/100\n",
      "601/601 [==============================] - 5s 8ms/step - loss: 1519915.5000 - val_loss: 1598690.5000\n",
      "Epoch 5/100\n",
      "601/601 [==============================] - 5s 8ms/step - loss: 1405719.5000 - val_loss: 1522529.5000\n",
      "Epoch 6/100\n",
      "601/601 [==============================] - 4s 6ms/step - loss: 1314224.2500 - val_loss: 1501514.7500\n",
      "Epoch 7/100\n",
      "601/601 [==============================] - 4s 7ms/step - loss: 1258129.5000 - val_loss: 1411722.2500\n",
      "Epoch 8/100\n",
      "601/601 [==============================] - 4s 7ms/step - loss: 1229761.7500 - val_loss: 1376929.1250\n",
      "Epoch 9/100\n",
      "601/601 [==============================] - 4s 7ms/step - loss: 1191275.5000 - val_loss: 1335897.2500\n",
      "Epoch 10/100\n",
      "601/601 [==============================] - 5s 9ms/step - loss: 1165411.7500 - val_loss: 1320834.2500\n",
      "Epoch 11/100\n",
      "601/601 [==============================] - 5s 8ms/step - loss: 1128298.2500 - val_loss: 1305505.1250\n",
      "Epoch 12/100\n",
      "601/601 [==============================] - 4s 7ms/step - loss: 1115949.5000 - val_loss: 1342047.7500\n",
      "Epoch 13/100\n",
      "601/601 [==============================] - 4s 7ms/step - loss: 1096224.8750 - val_loss: 1353504.3750\n",
      "Epoch 14/100\n",
      "601/601 [==============================] - 3s 6ms/step - loss: 1089662.1250 - val_loss: 1274987.0000\n",
      "Epoch 15/100\n",
      "601/601 [==============================] - 4s 7ms/step - loss: 1066282.5000 - val_loss: 1304323.1250\n",
      "Epoch 16/100\n",
      "601/601 [==============================] - 4s 6ms/step - loss: 1053143.7500 - val_loss: 1297529.8750\n",
      "Epoch 17/100\n",
      "601/601 [==============================] - 4s 7ms/step - loss: 1023930.3750 - val_loss: 1272380.8750\n",
      "Epoch 18/100\n",
      "601/601 [==============================] - 4s 7ms/step - loss: 1028032.3125 - val_loss: 1290873.0000\n",
      "Epoch 19/100\n",
      "601/601 [==============================] - 5s 9ms/step - loss: 1034860.6250 - val_loss: 1287564.1250\n",
      "Epoch 20/100\n",
      "601/601 [==============================] - 4s 7ms/step - loss: 1000543.7500 - val_loss: 1284004.2500\n",
      "Epoch 21/100\n",
      "601/601 [==============================] - 5s 8ms/step - loss: 989340.6250 - val_loss: 1265762.3750\n",
      "Epoch 22/100\n",
      "601/601 [==============================] - 4s 7ms/step - loss: 994219.0625 - val_loss: 1263162.7500\n",
      "Epoch 23/100\n",
      "601/601 [==============================] - 4s 7ms/step - loss: 982938.2500 - val_loss: 1278502.5000\n",
      "Epoch 24/100\n",
      "601/601 [==============================] - 4s 7ms/step - loss: 967802.0625 - val_loss: 1259271.7500\n",
      "Epoch 25/100\n",
      "601/601 [==============================] - 4s 7ms/step - loss: 966169.0625 - val_loss: 1252449.8750\n",
      "Epoch 26/100\n",
      "601/601 [==============================] - 5s 8ms/step - loss: 960890.1250 - val_loss: 1354823.3750\n",
      "Epoch 27/100\n",
      "601/601 [==============================] - 5s 8ms/step - loss: 952678.8125 - val_loss: 1238672.8750\n",
      "Epoch 28/100\n",
      "601/601 [==============================] - 5s 8ms/step - loss: 934420.4375 - val_loss: 1224774.0000\n",
      "Epoch 29/100\n",
      "601/601 [==============================] - 4s 7ms/step - loss: 931638.0625 - val_loss: 1223014.3750\n",
      "Epoch 30/100\n",
      "601/601 [==============================] - 4s 7ms/step - loss: 911965.2500 - val_loss: 1250173.1250\n",
      "Epoch 31/100\n",
      "601/601 [==============================] - 4s 7ms/step - loss: 920669.3125 - val_loss: 1238075.7500\n",
      "Epoch 32/100\n",
      "601/601 [==============================] - 4s 7ms/step - loss: 913942.6250 - val_loss: 1269873.6250\n",
      "Epoch 33/100\n",
      "601/601 [==============================] - 5s 8ms/step - loss: 889944.0000 - val_loss: 1252153.2500\n",
      "Epoch 34/100\n",
      "601/601 [==============================] - 4s 7ms/step - loss: 904238.5000 - val_loss: 1222501.7500\n",
      "Epoch 35/100\n",
      "601/601 [==============================] - 4s 7ms/step - loss: 898545.1250 - val_loss: 1248000.6250\n",
      "Epoch 36/100\n",
      "601/601 [==============================] - 4s 7ms/step - loss: 898864.0000 - val_loss: 1323878.7500\n",
      "Epoch 37/100\n",
      "601/601 [==============================] - 4s 7ms/step - loss: 887112.0625 - val_loss: 1247579.3750\n",
      "Epoch 38/100\n",
      "601/601 [==============================] - 4s 6ms/step - loss: 888703.8750 - val_loss: 1305734.6250\n",
      "Epoch 39/100\n",
      "601/601 [==============================] - 4s 7ms/step - loss: 872073.8125 - val_loss: 1257955.5000\n",
      "Epoch 40/100\n",
      "601/601 [==============================] - 4s 7ms/step - loss: 870447.6875 - val_loss: 1301749.5000\n",
      "Epoch 41/100\n",
      "601/601 [==============================] - 4s 6ms/step - loss: 836585.3125 - val_loss: 1291828.1250\n",
      "Epoch 42/100\n",
      "601/601 [==============================] - 4s 6ms/step - loss: 858935.1875 - val_loss: 1279647.7500\n",
      "Epoch 43/100\n",
      "601/601 [==============================] - 3s 6ms/step - loss: 858294.8125 - val_loss: 1366835.1250\n",
      "Epoch 44/100\n",
      "601/601 [==============================] - 5s 8ms/step - loss: 852669.2500 - val_loss: 1327112.1250\n",
      "301/301 [==============================] - 1s 3ms/step - loss: 1222501.3750\n",
      "Test Loss: 1222501.375\n"
     ]
    }
   ],
   "source": [
    "model = models.Sequential([\n",
    "    layers.Input(shape=(6, 64)),  \n",
    "    layers.Reshape((6, 8, 8)),  \n",
    "    \n",
    "    layers.Conv2D(32, (3, 3), activation='relu', padding='same'),\n",
    "    layers.MaxPooling2D(pool_size=(2, 2)),\n",
    "    layers.Conv2D(64, (3, 3), activation='relu', padding='same'),\n",
    "    layers.MaxPooling2D(pool_size=(2, 2)),\n",
    "    \n",
    "    layers.Flatten(),\n",
    "    \n",
    "    layers.Dense(128, activation='relu'),\n",
    "    layers.Dropout(0.5),\n",
    "    layers.Dense(64, activation='relu'),\n",
    "    layers.Dropout(0.5),\n",
    "    \n",
    "    layers.Dense(1)\n",
    "])\n",
    "\n",
    "model.compile(optimizer='adam', loss='mean_squared_error')\n",
    "\n",
    "early_stopping = EarlyStopping(monitor='val_loss', patience=10, restore_best_weights=True)\n",
    "\n",
    "model_checkpoint = ModelCheckpoint('best_model.h5', save_best_only=True, monitor='val_loss', mode='min')\n",
    "\n",
    "history = model.fit(\n",
    "    X_train_tensor, y_train_tensor, \n",
    "    epochs=100, \n",
    "    batch_size=64, \n",
    "    validation_data=(X_test_tensor, y_test_tensor),\n",
    "    callbacks=[early_stopping, model_checkpoint]\n",
    ")\n",
    "\n",
    "test_loss = model.evaluate(X_test_tensor, y_test_tensor)\n",
    "print(f\"Test Loss: {test_loss}\")\n",
    "\n"
   ]
  },
  {
   "cell_type": "code",
   "execution_count": 7,
   "metadata": {},
   "outputs": [
    {
     "data": {
      "image/png": "[encoded data removed]",
      "text/plain": [
       "<Figure size 720x432 with 1 Axes>"
      ]
     },
     "metadata": {},
     "output_type": "display_data"
    }
   ],
   "source": [
    "sns.set()\n",
    "plt.figure(figsize=(10, 6))\n",
    "plt.plot(history.history['loss'], label='Training Loss')\n",
    "plt.plot(history.history['val_loss'], label='Validation Loss')\n",
    "plt.xlabel('Epoch')\n",
    "plt.ylabel('Loss')\n",
    "plt.legend()\n",
    "plt.title('Training and Validation Loss')\n",
    "plt.show()\n"
   ]
  }
 ],
 "metadata": {
  "kernelspec": {
   "display_name": "ML",
   "language": "python",
   "name": "python3"
  },
  "language_info": {
   "codemirror_mode": {
    "name": "ipython",
    "version": 3
   },
   "file_extension": ".py",
   "mimetype": "text/x-python",
   "name": "python",
   "nbconvert_exporter": "python",
   "pygments_lexer": "ipython3",
   "version": "3.9.17"
  }
 },
 "nbformat": 4,
 "nbformat_minor": 2
}
